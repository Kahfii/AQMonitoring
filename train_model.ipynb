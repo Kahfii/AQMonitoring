{
 "cells": [
  {
   "cell_type": "code",
   "execution_count": 30,
   "metadata": {},
   "outputs": [],
   "source": [
    "import pandas as pd\n",
    "import time\n",
    "import pickle\n",
    "from sklearn.model_selection import train_test_split\n",
    "\n",
    "from sklearn.neighbors import KNeighborsClassifier\n",
    "from sklearn.linear_model import LogisticRegression\n",
    "from sklearn.tree import DecisionTreeClassifier\n",
    "from sklearn.ensemble import RandomForestClassifier\n",
    "from sklearn.svm import SVC\n",
    "from catboost import CatBoostClassifier\n",
    "\n",
    "from sklearn.metrics import accuracy_score, confusion_matrix"
   ]
  },
  {
   "cell_type": "code",
   "execution_count": 31,
   "metadata": {},
   "outputs": [
    {
     "data": {
      "text/html": [
       "<div>\n",
       "<style scoped>\n",
       "    .dataframe tbody tr th:only-of-type {\n",
       "        vertical-align: middle;\n",
       "    }\n",
       "\n",
       "    .dataframe tbody tr th {\n",
       "        vertical-align: top;\n",
       "    }\n",
       "\n",
       "    .dataframe thead th {\n",
       "        text-align: right;\n",
       "    }\n",
       "</style>\n",
       "<table border=\"1\" class=\"dataframe\">\n",
       "  <thead>\n",
       "    <tr style=\"text-align: right;\">\n",
       "      <th></th>\n",
       "      <th>timestamp</th>\n",
       "      <th>temp</th>\n",
       "      <th>humidity</th>\n",
       "      <th>ppm</th>\n",
       "    </tr>\n",
       "  </thead>\n",
       "  <tbody>\n",
       "    <tr>\n",
       "      <th>0</th>\n",
       "      <td>2023-06-09T10:46:48+05:30</td>\n",
       "      <td>38</td>\n",
       "      <td>38</td>\n",
       "      <td>24.01</td>\n",
       "    </tr>\n",
       "    <tr>\n",
       "      <th>1</th>\n",
       "      <td>2023-06-09T10:47:49+05:30</td>\n",
       "      <td>38</td>\n",
       "      <td>36</td>\n",
       "      <td>22.39</td>\n",
       "    </tr>\n",
       "    <tr>\n",
       "      <th>2</th>\n",
       "      <td>2023-06-09T10:48:49+05:30</td>\n",
       "      <td>38</td>\n",
       "      <td>36</td>\n",
       "      <td>21.62</td>\n",
       "    </tr>\n",
       "    <tr>\n",
       "      <th>3</th>\n",
       "      <td>2023-06-09T10:49:50+05:30</td>\n",
       "      <td>38</td>\n",
       "      <td>36</td>\n",
       "      <td>21.62</td>\n",
       "    </tr>\n",
       "    <tr>\n",
       "      <th>4</th>\n",
       "      <td>2023-06-09T10:50:50+05:30</td>\n",
       "      <td>38</td>\n",
       "      <td>36</td>\n",
       "      <td>21.62</td>\n",
       "    </tr>\n",
       "    <tr>\n",
       "      <th>...</th>\n",
       "      <td>...</td>\n",
       "      <td>...</td>\n",
       "      <td>...</td>\n",
       "      <td>...</td>\n",
       "    </tr>\n",
       "    <tr>\n",
       "      <th>10303</th>\n",
       "      <td>2023-06-17T02:51:13+05:30</td>\n",
       "      <td>28</td>\n",
       "      <td>32</td>\n",
       "      <td>25.71</td>\n",
       "    </tr>\n",
       "    <tr>\n",
       "      <th>10304</th>\n",
       "      <td>2023-06-17T02:52:13+05:30</td>\n",
       "      <td>28</td>\n",
       "      <td>32</td>\n",
       "      <td>25.71</td>\n",
       "    </tr>\n",
       "    <tr>\n",
       "      <th>10305</th>\n",
       "      <td>2023-06-17T02:53:14+05:30</td>\n",
       "      <td>28</td>\n",
       "      <td>32</td>\n",
       "      <td>25.71</td>\n",
       "    </tr>\n",
       "    <tr>\n",
       "      <th>10306</th>\n",
       "      <td>2023-06-17T02:54:14+05:30</td>\n",
       "      <td>28</td>\n",
       "      <td>32</td>\n",
       "      <td>28.43</td>\n",
       "    </tr>\n",
       "    <tr>\n",
       "      <th>10307</th>\n",
       "      <td>2023-06-17T02:55:15+05:30</td>\n",
       "      <td>28</td>\n",
       "      <td>32</td>\n",
       "      <td>30.36</td>\n",
       "    </tr>\n",
       "  </tbody>\n",
       "</table>\n",
       "<p>10308 rows × 4 columns</p>\n",
       "</div>"
      ],
      "text/plain": [
       "                       timestamp  temp  humidity    ppm\n",
       "0      2023-06-09T10:46:48+05:30    38        38  24.01\n",
       "1      2023-06-09T10:47:49+05:30    38        36  22.39\n",
       "2      2023-06-09T10:48:49+05:30    38        36  21.62\n",
       "3      2023-06-09T10:49:50+05:30    38        36  21.62\n",
       "4      2023-06-09T10:50:50+05:30    38        36  21.62\n",
       "...                          ...   ...       ...    ...\n",
       "10303  2023-06-17T02:51:13+05:30    28        32  25.71\n",
       "10304  2023-06-17T02:52:13+05:30    28        32  25.71\n",
       "10305  2023-06-17T02:53:14+05:30    28        32  25.71\n",
       "10306  2023-06-17T02:54:14+05:30    28        32  28.43\n",
       "10307  2023-06-17T02:55:15+05:30    28        32  30.36\n",
       "\n",
       "[10308 rows x 4 columns]"
      ]
     },
     "execution_count": 31,
     "metadata": {},
     "output_type": "execute_result"
    }
   ],
   "source": [
    "df = pd.read_csv(\"dataset/arduino_data.csv\")\n",
    "df"
   ]
  },
  {
   "cell_type": "code",
   "execution_count": 32,
   "metadata": {},
   "outputs": [
    {
     "name": "stdout",
     "output_type": "stream",
     "text": [
      "<class 'pandas.core.frame.DataFrame'>\n",
      "RangeIndex: 10308 entries, 0 to 10307\n",
      "Data columns (total 4 columns):\n",
      " #   Column     Non-Null Count  Dtype  \n",
      "---  ------     --------------  -----  \n",
      " 0   timestamp  10308 non-null  object \n",
      " 1   temp       10308 non-null  int64  \n",
      " 2   humidity   10308 non-null  int64  \n",
      " 3   ppm        10308 non-null  float64\n",
      "dtypes: float64(1), int64(2), object(1)\n",
      "memory usage: 322.3+ KB\n"
     ]
    }
   ],
   "source": [
    "df.info()"
   ]
  },
  {
   "cell_type": "code",
   "execution_count": 33,
   "metadata": {},
   "outputs": [
    {
     "data": {
      "text/html": [
       "<div>\n",
       "<style scoped>\n",
       "    .dataframe tbody tr th:only-of-type {\n",
       "        vertical-align: middle;\n",
       "    }\n",
       "\n",
       "    .dataframe tbody tr th {\n",
       "        vertical-align: top;\n",
       "    }\n",
       "\n",
       "    .dataframe thead th {\n",
       "        text-align: right;\n",
       "    }\n",
       "</style>\n",
       "<table border=\"1\" class=\"dataframe\">\n",
       "  <thead>\n",
       "    <tr style=\"text-align: right;\">\n",
       "      <th></th>\n",
       "      <th>temp</th>\n",
       "      <th>humidity</th>\n",
       "      <th>ppm</th>\n",
       "    </tr>\n",
       "  </thead>\n",
       "  <tbody>\n",
       "    <tr>\n",
       "      <th>count</th>\n",
       "      <td>10308.000000</td>\n",
       "      <td>10308.000000</td>\n",
       "      <td>10308.000000</td>\n",
       "    </tr>\n",
       "    <tr>\n",
       "      <th>mean</th>\n",
       "      <td>38.297051</td>\n",
       "      <td>32.617288</td>\n",
       "      <td>39.145906</td>\n",
       "    </tr>\n",
       "    <tr>\n",
       "      <th>std</th>\n",
       "      <td>4.053829</td>\n",
       "      <td>5.793688</td>\n",
       "      <td>18.363310</td>\n",
       "    </tr>\n",
       "    <tr>\n",
       "      <th>min</th>\n",
       "      <td>28.000000</td>\n",
       "      <td>21.000000</td>\n",
       "      <td>11.270000</td>\n",
       "    </tr>\n",
       "    <tr>\n",
       "      <th>25%</th>\n",
       "      <td>35.000000</td>\n",
       "      <td>29.000000</td>\n",
       "      <td>24.850000</td>\n",
       "    </tr>\n",
       "    <tr>\n",
       "      <th>50%</th>\n",
       "      <td>39.000000</td>\n",
       "      <td>32.000000</td>\n",
       "      <td>34.520000</td>\n",
       "    </tr>\n",
       "    <tr>\n",
       "      <th>75%</th>\n",
       "      <td>41.000000</td>\n",
       "      <td>36.000000</td>\n",
       "      <td>49.670000</td>\n",
       "    </tr>\n",
       "    <tr>\n",
       "      <th>max</th>\n",
       "      <td>45.000000</td>\n",
       "      <td>55.000000</td>\n",
       "      <td>328.600000</td>\n",
       "    </tr>\n",
       "  </tbody>\n",
       "</table>\n",
       "</div>"
      ],
      "text/plain": [
       "               temp      humidity           ppm\n",
       "count  10308.000000  10308.000000  10308.000000\n",
       "mean      38.297051     32.617288     39.145906\n",
       "std        4.053829      5.793688     18.363310\n",
       "min       28.000000     21.000000     11.270000\n",
       "25%       35.000000     29.000000     24.850000\n",
       "50%       39.000000     32.000000     34.520000\n",
       "75%       41.000000     36.000000     49.670000\n",
       "max       45.000000     55.000000    328.600000"
      ]
     },
     "execution_count": 33,
     "metadata": {},
     "output_type": "execute_result"
    }
   ],
   "source": [
    "df.describe()"
   ]
  },
  {
   "cell_type": "code",
   "execution_count": 34,
   "metadata": {},
   "outputs": [
    {
     "data": {
      "text/plain": [
       "timestamp    0\n",
       "temp         0\n",
       "humidity     0\n",
       "ppm          0\n",
       "dtype: int64"
      ]
     },
     "execution_count": 34,
     "metadata": {},
     "output_type": "execute_result"
    }
   ],
   "source": [
    "df.isnull().sum()"
   ]
  },
  {
   "cell_type": "code",
   "execution_count": 35,
   "metadata": {},
   "outputs": [
    {
     "data": {
      "text/plain": [
       "0"
      ]
     },
     "execution_count": 35,
     "metadata": {},
     "output_type": "execute_result"
    }
   ],
   "source": [
    "df.duplicated().sum()"
   ]
  },
  {
   "cell_type": "code",
   "execution_count": 36,
   "metadata": {},
   "outputs": [
    {
     "data": {
      "text/html": [
       "<div>\n",
       "<style scoped>\n",
       "    .dataframe tbody tr th:only-of-type {\n",
       "        vertical-align: middle;\n",
       "    }\n",
       "\n",
       "    .dataframe tbody tr th {\n",
       "        vertical-align: top;\n",
       "    }\n",
       "\n",
       "    .dataframe thead th {\n",
       "        text-align: right;\n",
       "    }\n",
       "</style>\n",
       "<table border=\"1\" class=\"dataframe\">\n",
       "  <thead>\n",
       "    <tr style=\"text-align: right;\">\n",
       "      <th></th>\n",
       "      <th>temp</th>\n",
       "      <th>humidity</th>\n",
       "      <th>ppm</th>\n",
       "    </tr>\n",
       "  </thead>\n",
       "  <tbody>\n",
       "    <tr>\n",
       "      <th>0</th>\n",
       "      <td>38</td>\n",
       "      <td>38</td>\n",
       "      <td>24.01</td>\n",
       "    </tr>\n",
       "    <tr>\n",
       "      <th>1</th>\n",
       "      <td>38</td>\n",
       "      <td>36</td>\n",
       "      <td>22.39</td>\n",
       "    </tr>\n",
       "    <tr>\n",
       "      <th>2</th>\n",
       "      <td>38</td>\n",
       "      <td>36</td>\n",
       "      <td>21.62</td>\n",
       "    </tr>\n",
       "    <tr>\n",
       "      <th>3</th>\n",
       "      <td>38</td>\n",
       "      <td>36</td>\n",
       "      <td>21.62</td>\n",
       "    </tr>\n",
       "    <tr>\n",
       "      <th>4</th>\n",
       "      <td>38</td>\n",
       "      <td>36</td>\n",
       "      <td>21.62</td>\n",
       "    </tr>\n",
       "  </tbody>\n",
       "</table>\n",
       "</div>"
      ],
      "text/plain": [
       "   temp  humidity    ppm\n",
       "0    38        38  24.01\n",
       "1    38        36  22.39\n",
       "2    38        36  21.62\n",
       "3    38        36  21.62\n",
       "4    38        36  21.62"
      ]
     },
     "execution_count": 36,
     "metadata": {},
     "output_type": "execute_result"
    }
   ],
   "source": [
    "df_clean = df.drop(columns=\"timestamp\")\n",
    "df_clean.head()"
   ]
  },
  {
   "cell_type": "markdown",
   "metadata": {},
   "source": [
    "## Labeling"
   ]
  },
  {
   "cell_type": "code",
   "execution_count": 37,
   "metadata": {},
   "outputs": [
    {
     "data": {
      "text/html": [
       "<div>\n",
       "<style scoped>\n",
       "    .dataframe tbody tr th:only-of-type {\n",
       "        vertical-align: middle;\n",
       "    }\n",
       "\n",
       "    .dataframe tbody tr th {\n",
       "        vertical-align: top;\n",
       "    }\n",
       "\n",
       "    .dataframe thead th {\n",
       "        text-align: right;\n",
       "    }\n",
       "</style>\n",
       "<table border=\"1\" class=\"dataframe\">\n",
       "  <thead>\n",
       "    <tr style=\"text-align: right;\">\n",
       "      <th></th>\n",
       "      <th>temp</th>\n",
       "      <th>humidity</th>\n",
       "      <th>ppm</th>\n",
       "      <th>label quality</th>\n",
       "    </tr>\n",
       "  </thead>\n",
       "  <tbody>\n",
       "    <tr>\n",
       "      <th>0</th>\n",
       "      <td>38</td>\n",
       "      <td>38</td>\n",
       "      <td>24.01</td>\n",
       "      <td>normal</td>\n",
       "    </tr>\n",
       "    <tr>\n",
       "      <th>1</th>\n",
       "      <td>38</td>\n",
       "      <td>36</td>\n",
       "      <td>22.39</td>\n",
       "      <td>normal</td>\n",
       "    </tr>\n",
       "    <tr>\n",
       "      <th>2</th>\n",
       "      <td>38</td>\n",
       "      <td>36</td>\n",
       "      <td>21.62</td>\n",
       "      <td>normal</td>\n",
       "    </tr>\n",
       "    <tr>\n",
       "      <th>3</th>\n",
       "      <td>38</td>\n",
       "      <td>36</td>\n",
       "      <td>21.62</td>\n",
       "      <td>normal</td>\n",
       "    </tr>\n",
       "    <tr>\n",
       "      <th>4</th>\n",
       "      <td>38</td>\n",
       "      <td>36</td>\n",
       "      <td>21.62</td>\n",
       "      <td>normal</td>\n",
       "    </tr>\n",
       "  </tbody>\n",
       "</table>\n",
       "</div>"
      ],
      "text/plain": [
       "   temp  humidity    ppm label quality\n",
       "0    38        38  24.01        normal\n",
       "1    38        36  22.39        normal\n",
       "2    38        36  21.62        normal\n",
       "3    38        36  21.62        normal\n",
       "4    38        36  21.62        normal"
      ]
     },
     "execution_count": 37,
     "metadata": {},
     "output_type": "execute_result"
    }
   ],
   "source": [
    "def label_quality(row):\n",
    "   \n",
    "    ppm_in_range = 0 <= row['ppm'] <= 100\n",
    "    temp_in_range = 20 <= row['temp'] <= 32\n",
    "    humidity_in_range = 30 <= row['humidity'] <= 70\n",
    "\n",
    "    \n",
    "    in_range_count = sum([ppm_in_range, temp_in_range, humidity_in_range])\n",
    "\n",
    "\n",
    "    if ppm_in_range and temp_in_range and humidity_in_range:\n",
    "        return 'healthy'\n",
    "    elif in_range_count == 2:\n",
    "        return 'normal'\n",
    "    else:\n",
    "        return 'unhealthy'\n",
    "\n",
    "df_clean['label quality'] = df_clean.apply(label_quality, axis=1)\n",
    "\n",
    "df_clean.head()\n"
   ]
  },
  {
   "cell_type": "code",
   "execution_count": 38,
   "metadata": {},
   "outputs": [],
   "source": [
    "df_clean = df_clean.to_csv(\"dataset/Air Quality Train Data\", index=False)"
   ]
  },
  {
   "cell_type": "markdown",
   "metadata": {},
   "source": [
    "## Training Model "
   ]
  },
  {
   "cell_type": "code",
   "execution_count": 39,
   "metadata": {},
   "outputs": [],
   "source": [
    "df_train = pd.read_csv(\"dataset/Air Quality Train Data.csv\")"
   ]
  },
  {
   "cell_type": "code",
   "execution_count": 40,
   "metadata": {},
   "outputs": [
    {
     "data": {
      "text/html": [
       "<div>\n",
       "<style scoped>\n",
       "    .dataframe tbody tr th:only-of-type {\n",
       "        vertical-align: middle;\n",
       "    }\n",
       "\n",
       "    .dataframe tbody tr th {\n",
       "        vertical-align: top;\n",
       "    }\n",
       "\n",
       "    .dataframe thead th {\n",
       "        text-align: right;\n",
       "    }\n",
       "</style>\n",
       "<table border=\"1\" class=\"dataframe\">\n",
       "  <thead>\n",
       "    <tr style=\"text-align: right;\">\n",
       "      <th></th>\n",
       "      <th>temp</th>\n",
       "      <th>humidity</th>\n",
       "      <th>ppm</th>\n",
       "      <th>label quality</th>\n",
       "    </tr>\n",
       "  </thead>\n",
       "  <tbody>\n",
       "    <tr>\n",
       "      <th>0</th>\n",
       "      <td>38</td>\n",
       "      <td>38</td>\n",
       "      <td>24.01</td>\n",
       "      <td>normal</td>\n",
       "    </tr>\n",
       "    <tr>\n",
       "      <th>1</th>\n",
       "      <td>38</td>\n",
       "      <td>36</td>\n",
       "      <td>22.39</td>\n",
       "      <td>normal</td>\n",
       "    </tr>\n",
       "    <tr>\n",
       "      <th>2</th>\n",
       "      <td>38</td>\n",
       "      <td>36</td>\n",
       "      <td>21.62</td>\n",
       "      <td>normal</td>\n",
       "    </tr>\n",
       "    <tr>\n",
       "      <th>3</th>\n",
       "      <td>38</td>\n",
       "      <td>36</td>\n",
       "      <td>21.62</td>\n",
       "      <td>normal</td>\n",
       "    </tr>\n",
       "    <tr>\n",
       "      <th>4</th>\n",
       "      <td>38</td>\n",
       "      <td>36</td>\n",
       "      <td>21.62</td>\n",
       "      <td>normal</td>\n",
       "    </tr>\n",
       "  </tbody>\n",
       "</table>\n",
       "</div>"
      ],
      "text/plain": [
       "   temp  humidity    ppm label quality\n",
       "0    38        38  24.01        normal\n",
       "1    38        36  22.39        normal\n",
       "2    38        36  21.62        normal\n",
       "3    38        36  21.62        normal\n",
       "4    38        36  21.62        normal"
      ]
     },
     "execution_count": 40,
     "metadata": {},
     "output_type": "execute_result"
    }
   ],
   "source": [
    "df_train.head()"
   ]
  },
  {
   "cell_type": "code",
   "execution_count": 41,
   "metadata": {},
   "outputs": [
    {
     "name": "stdout",
     "output_type": "stream",
     "text": [
      "label quality\n",
      "normal       6260\n",
      "unhealthy    3067\n",
      "healthy       981\n",
      "Name: count, dtype: int64\n"
     ]
    }
   ],
   "source": [
    "label_counts = df_train['label quality'].value_counts()\n",
    "print(label_counts)"
   ]
  },
  {
   "cell_type": "code",
   "execution_count": 42,
   "metadata": {},
   "outputs": [],
   "source": [
    "features = ['temp', 'humidity', 'ppm']\n",
    "target = ['label quality']\n",
    "\n",
    "x = df_train[features]\n",
    "y = df_train[target]"
   ]
  },
  {
   "cell_type": "code",
   "execution_count": 43,
   "metadata": {},
   "outputs": [
    {
     "name": "stdout",
     "output_type": "stream",
     "text": [
      "10308\n"
     ]
    }
   ],
   "source": [
    "x.head()\n",
    "print(len(x))"
   ]
  },
  {
   "cell_type": "code",
   "execution_count": 44,
   "metadata": {},
   "outputs": [
    {
     "name": "stdout",
     "output_type": "stream",
     "text": [
      "10308\n"
     ]
    }
   ],
   "source": [
    "y.head()\n",
    "print(len(y))"
   ]
  },
  {
   "cell_type": "code",
   "execution_count": 45,
   "metadata": {},
   "outputs": [],
   "source": [
    "def modeling(model, x_train, x_test, y_train, y_test):\n",
    "    start = time.time()\n",
    "\n",
    "    \n",
    "    model.fit(x_train, y_train)\n",
    "    end = time.time()\n",
    "    print(f'Training time: {end - start}')\n",
    "    \n",
    "    y_pred = model.predict(x_test)\n",
    "    y_pred_train = model.predict(x_train)\n",
    "\n",
    "    return model, y_pred, y_pred_train\n",
    "\n",
    "def evaluation(y_actual, y_pred, segment):\n",
    "    accuracy = accuracy_score(y_actual, y_pred)\n",
    "    confusion = confusion_matrix(y_actual, y_pred)\n",
    "\n",
    "    print(f'Evaluation for segment {segment}')\n",
    "    print('Accuracy : ', accuracy)\n",
    "    print('Confusion Matrix : \\n', confusion)"
   ]
  },
  {
   "cell_type": "code",
   "execution_count": 46,
   "metadata": {},
   "outputs": [
    {
     "name": "stdout",
     "output_type": "stream",
     "text": [
      "X train shape:  (8246, 3)\n",
      "X test shape:  (2062, 3)\n",
      "y train shape:  (8246, 1)\n",
      "y test shape:  (2062, 1)\n"
     ]
    }
   ],
   "source": [
    "x_train, x_test, y_train, y_test = train_test_split(x,y, test_size=0.2, random_state=42)\n",
    "print(\"X train shape: \", x_train.shape)\n",
    "print(\"X test shape: \", x_test.shape)\n",
    "print(\"y train shape: \", y_train.shape)\n",
    "print(\"y test shape: \", y_test.shape)"
   ]
  },
  {
   "cell_type": "markdown",
   "metadata": {},
   "source": [
    "## Logistic Regression"
   ]
  },
  {
   "cell_type": "code",
   "execution_count": 47,
   "metadata": {},
   "outputs": [
    {
     "name": "stdout",
     "output_type": "stream",
     "text": [
      "Training time: 0.16665029525756836\n",
      "-----------------\n",
      "Evaluation for segment Data Training\n",
      "Accuracy :  0.9187484841135096\n",
      "Confusion Matrix : \n",
      " [[ 638  136    0]\n",
      " [ 106 4628  284]\n",
      " [   0  144 2310]]\n",
      "-----------------\n",
      "Evaluation for segment Data Testing\n",
      "Accuracy :  0.9161008729388943\n",
      "Confusion Matrix : \n",
      " [[ 171   36    0]\n",
      " [  30 1138   74]\n",
      " [   0   33  580]]\n"
     ]
    },
    {
     "name": "stderr",
     "output_type": "stream",
     "text": [
      "c:\\Users\\Ilyas\\AppData\\Local\\Programs\\Python\\Python311\\Lib\\site-packages\\sklearn\\utils\\validation.py:1300: DataConversionWarning: A column-vector y was passed when a 1d array was expected. Please change the shape of y to (n_samples, ), for example using ravel().\n",
      "  y = column_or_1d(y, warn=True)\n",
      "c:\\Users\\Ilyas\\AppData\\Local\\Programs\\Python\\Python311\\Lib\\site-packages\\sklearn\\linear_model\\_logistic.py:469: ConvergenceWarning: lbfgs failed to converge (status=1):\n",
      "STOP: TOTAL NO. of ITERATIONS REACHED LIMIT.\n",
      "\n",
      "Increase the number of iterations (max_iter) or scale the data as shown in:\n",
      "    https://scikit-learn.org/stable/modules/preprocessing.html\n",
      "Please also refer to the documentation for alternative solver options:\n",
      "    https://scikit-learn.org/stable/modules/linear_model.html#logistic-regression\n",
      "  n_iter_i = _check_optimize_result(\n"
     ]
    }
   ],
   "source": [
    "lr = LogisticRegression()\n",
    "model_lr, y_pred_lr, y_pred_train_lr = modeling(lr, x_train, x_test, y_train, y_test)\n",
    "print('-----------------')\n",
    "evaluation(y_train, y_pred_train_lr, 'Data Training')\n",
    "print('-----------------')\n",
    "evaluation(y_test, y_pred_lr, 'Data Testing')"
   ]
  },
  {
   "cell_type": "markdown",
   "metadata": {},
   "source": [
    "## kNN"
   ]
  },
  {
   "cell_type": "code",
   "execution_count": 48,
   "metadata": {},
   "outputs": [
    {
     "name": "stdout",
     "output_type": "stream",
     "text": [
      "Training time: 0.016489267349243164\n"
     ]
    },
    {
     "name": "stderr",
     "output_type": "stream",
     "text": [
      "c:\\Users\\Ilyas\\AppData\\Local\\Programs\\Python\\Python311\\Lib\\site-packages\\sklearn\\neighbors\\_classification.py:238: DataConversionWarning: A column-vector y was passed when a 1d array was expected. Please change the shape of y to (n_samples,), for example using ravel().\n",
      "  return self._fit(X, y)\n"
     ]
    },
    {
     "name": "stdout",
     "output_type": "stream",
     "text": [
      "-----------------\n",
      "Evaluation for segment Data Training\n",
      "Accuracy :  0.9944215377152559\n",
      "Confusion Matrix : \n",
      " [[ 766    8    0]\n",
      " [   0 5001   17]\n",
      " [   0   21 2433]]\n",
      "-----------------\n",
      "Evaluation for segment Data Testing\n",
      "Accuracy :  0.9903006789524733\n",
      "Confusion Matrix : \n",
      " [[ 204    3    0]\n",
      " [   0 1233    9]\n",
      " [   0    8  605]]\n"
     ]
    }
   ],
   "source": [
    "knn = KNeighborsClassifier()\n",
    "model_knn, y_pred_knn, y_pred_train_knn = modeling(knn, x_train, x_test, y_train, y_test)\n",
    "print('-----------------')\n",
    "evaluation(y_train, y_pred_train_knn, 'Data Training')\n",
    "print('-----------------')\n",
    "evaluation(y_test, y_pred_knn, 'Data Testing')"
   ]
  },
  {
   "cell_type": "markdown",
   "metadata": {},
   "source": [
    "## Desicion Tree Classifier"
   ]
  },
  {
   "cell_type": "code",
   "execution_count": 49,
   "metadata": {},
   "outputs": [
    {
     "name": "stdout",
     "output_type": "stream",
     "text": [
      "Training time: 0.015348196029663086\n",
      "-----------------\n",
      "Evaluation for segment Data Training\n",
      "Accuracy :  0.8744845985932573\n",
      "Confusion Matrix : \n",
      " [[   0  774    0]\n",
      " [   0 4770  248]\n",
      " [   0   13 2441]]\n",
      "-----------------\n",
      "Evaluation for segment Data Testing\n",
      "Accuracy :  0.8685741998060136\n",
      "Confusion Matrix : \n",
      " [[   0  207    0]\n",
      " [   0 1180   62]\n",
      " [   0    2  611]]\n"
     ]
    }
   ],
   "source": [
    "dt = DecisionTreeClassifier(random_state=42, max_depth=1)\n",
    "model_dt, y_pred_dt, y_pred_train_dt = modeling(dt, x_train, x_test, y_train, y_test)\n",
    "print('-----------------')\n",
    "evaluation(y_train, y_pred_train_dt, 'Data Training')\n",
    "print('-----------------')\n",
    "evaluation(y_test, y_pred_dt, 'Data Testing')"
   ]
  },
  {
   "cell_type": "markdown",
   "metadata": {},
   "source": [
    "## Random Forest Regression"
   ]
  },
  {
   "cell_type": "code",
   "execution_count": 50,
   "metadata": {},
   "outputs": [
    {
     "name": "stderr",
     "output_type": "stream",
     "text": [
      "c:\\Users\\Ilyas\\AppData\\Local\\Programs\\Python\\Python311\\Lib\\site-packages\\sklearn\\base.py:1474: DataConversionWarning: A column-vector y was passed when a 1d array was expected. Please change the shape of y to (n_samples,), for example using ravel().\n",
      "  return fit_method(estimator, *args, **kwargs)\n"
     ]
    },
    {
     "name": "stdout",
     "output_type": "stream",
     "text": [
      "Training time: 0.43584156036376953\n",
      "-----------------\n",
      "Evaluation for segment Data Training\n",
      "Accuracy :  1.0\n",
      "Confusion Matrix : \n",
      " [[ 774    0    0]\n",
      " [   0 5018    0]\n",
      " [   0    0 2454]]\n",
      "-----------------\n",
      "Evaluation for segment Data Testing\n",
      "Accuracy :  1.0\n",
      "Confusion Matrix : \n",
      " [[ 207    0    0]\n",
      " [   0 1242    0]\n",
      " [   0    0  613]]\n"
     ]
    }
   ],
   "source": [
    "rf = RandomForestClassifier()\n",
    "model_rf, y_pred_rf, y_pred_train_rf = modeling(rf, x_train, x_test, y_train, y_test)\n",
    "print('-----------------')\n",
    "evaluation(y_train, y_pred_train_rf, 'Data Training')\n",
    "print('-----------------')\n",
    "evaluation(y_test, y_pred_rf, 'Data Testing')"
   ]
  },
  {
   "cell_type": "markdown",
   "metadata": {},
   "source": [
    "## SVM"
   ]
  },
  {
   "cell_type": "code",
   "execution_count": 51,
   "metadata": {},
   "outputs": [
    {
     "name": "stderr",
     "output_type": "stream",
     "text": [
      "c:\\Users\\Ilyas\\AppData\\Local\\Programs\\Python\\Python311\\Lib\\site-packages\\sklearn\\utils\\validation.py:1300: DataConversionWarning: A column-vector y was passed when a 1d array was expected. Please change the shape of y to (n_samples, ), for example using ravel().\n",
      "  y = column_or_1d(y, warn=True)\n"
     ]
    },
    {
     "name": "stdout",
     "output_type": "stream",
     "text": [
      "Training time: 0.5310244560241699\n",
      "-----------------\n",
      "Evaluation for segment Data Training\n",
      "Accuracy :  0.9700460829493087\n",
      "Confusion Matrix : \n",
      " [[ 762   12    0]\n",
      " [  34 4847  137]\n",
      " [   0   64 2390]]\n",
      "-----------------\n",
      "Evaluation for segment Data Testing\n",
      "Accuracy :  0.9709020368574199\n",
      "Confusion Matrix : \n",
      " [[ 204    3    0]\n",
      " [  10 1201   31]\n",
      " [   0   16  597]]\n"
     ]
    }
   ],
   "source": [
    "svm = SVC()\n",
    "model_svm, y_pred_svm, y_pred_train_svm = modeling(svm, x_train, x_test, y_train, y_test)\n",
    "print('-----------------')\n",
    "evaluation(y_train, y_pred_train_svm, 'Data Training')\n",
    "print('-----------------')\n",
    "evaluation(y_test, y_pred_svm, 'Data Testing')"
   ]
  },
  {
   "cell_type": "markdown",
   "metadata": {},
   "source": [
    "## Catboost"
   ]
  },
  {
   "cell_type": "code",
   "execution_count": 52,
   "metadata": {},
   "outputs": [
    {
     "name": "stdout",
     "output_type": "stream",
     "text": [
      "Training time: 4.86887264251709\n",
      "-----------------\n",
      "Evaluation for segment Data Training\n",
      "Accuracy :  1.0\n",
      "Confusion Matrix : \n",
      " [[ 774    0    0]\n",
      " [   0 5018    0]\n",
      " [   0    0 2454]]\n",
      "-----------------\n",
      "Evaluation for segment Data Testing\n",
      "Accuracy :  1.0\n",
      "Confusion Matrix : \n",
      " [[ 207    0    0]\n",
      " [   0 1242    0]\n",
      " [   0    0  613]]\n"
     ]
    }
   ],
   "source": [
    "cb = CatBoostClassifier(verbose=0)\n",
    "model_cb, y_pred_cb, y_pred_train_cb = modeling(cb, x_train, x_test, y_train, y_test)\n",
    "print('-----------------')\n",
    "evaluation(y_train, y_pred_train_cb, 'Data Training')\n",
    "print('-----------------')\n",
    "evaluation(y_test, y_pred_cb, 'Data Testing')"
   ]
  },
  {
   "cell_type": "markdown",
   "metadata": {},
   "source": [
    "## Save Model to Pickle"
   ]
  },
  {
   "cell_type": "code",
   "execution_count": 53,
   "metadata": {},
   "outputs": [],
   "source": [
    "with open('model/model_lr.pkl', 'wb') as file:\n",
    "    pickle.dump(lr, file)"
   ]
  },
  {
   "cell_type": "code",
   "execution_count": 54,
   "metadata": {},
   "outputs": [],
   "source": [
    "with open('model/model_knn.pkl', 'wb') as file:\n",
    "    pickle.dump(knn, file)"
   ]
  },
  {
   "cell_type": "code",
   "execution_count": 55,
   "metadata": {},
   "outputs": [],
   "source": [
    "with open('model/model_dt.pkl', 'wb') as file:\n",
    "    pickle.dump(dt, file)"
   ]
  },
  {
   "cell_type": "code",
   "execution_count": 56,
   "metadata": {},
   "outputs": [],
   "source": [
    "with open('model/model_rf.pkl', 'wb') as file:\n",
    "    pickle.dump(rf, file)"
   ]
  },
  {
   "cell_type": "code",
   "execution_count": 57,
   "metadata": {},
   "outputs": [],
   "source": [
    "with open('model/model_svm.pkl', 'wb') as file:\n",
    "    pickle.dump(svm, file)"
   ]
  },
  {
   "cell_type": "code",
   "execution_count": 58,
   "metadata": {},
   "outputs": [],
   "source": [
    "with open('model/model_cb.pkl', 'wb') as file:\n",
    "    pickle.dump(cb, file)"
   ]
  }
 ],
 "metadata": {
  "kernelspec": {
   "display_name": "Python 3",
   "language": "python",
   "name": "python3"
  },
  "language_info": {
   "codemirror_mode": {
    "name": "ipython",
    "version": 3
   },
   "file_extension": ".py",
   "mimetype": "text/x-python",
   "name": "python",
   "nbconvert_exporter": "python",
   "pygments_lexer": "ipython3",
   "version": "3.11.9"
  }
 },
 "nbformat": 4,
 "nbformat_minor": 2
}
